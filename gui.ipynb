{
  "nbformat": 4,
  "nbformat_minor": 0,
  "metadata": {
    "colab": {
      "provenance": []
    },
    "kernelspec": {
      "name": "python3",
      "display_name": "Python 3"
    },
    "language_info": {
      "name": "python"
    }
  },
  "cells": [
    {
      "cell_type": "code",
      "source": [
        "!pip install streamlit pyngrok openai -q\n"
      ],
      "metadata": {
        "id": "43-MDqt1T_x8"
      },
      "execution_count": 1,
      "outputs": []
    },
    {
      "cell_type": "code",
      "source": [
        "!ngrok authtoken 2x1Psczh1bemxNr2v1mUklC1V7w_5ykEWW2jDgu4djT2dqzJM\n"
      ],
      "metadata": {
        "colab": {
          "base_uri": "https://localhost:8080/"
        },
        "id": "evh5HbSxVrUY",
        "outputId": "c07968d1-2afd-47e4-e6e1-84c6f9e68fc2"
      },
      "execution_count": 2,
      "outputs": [
        {
          "output_type": "stream",
          "name": "stdout",
          "text": [
            "Authtoken saved to configuration file: /root/.config/ngrok/ngrok.yml\n"
          ]
        }
      ]
    },
    {
      "cell_type": "code",
      "source": [
        "# Install required libraries\n",
        "!pip install streamlit pyngrok textblob -q\n",
        "\n",
        "# Set up the app file\n",
        "with open(\"app.py\", \"w\") as f:\n",
        "    f.write('''\n",
        "import streamlit as st\n",
        "from textblob import TextBlob\n",
        "\n",
        "# Set up the page\n",
        "st.set_page_config(\n",
        "    page_title=\"Sephora Review Analyzer (Free)\",\n",
        "    page_icon=\"💄\",\n",
        "    layout=\"centered\"\n",
        ")\n",
        "\n",
        "st.markdown(\"<h1 style='text-align:center;color:#FF69B4;'>Sephora Review Analyzer 💄</h1>\", unsafe_allow_html=True)\n",
        "st.markdown(\"<p style='text-align:center;'>Enter a product review to see if it's Positive or Negative</p>\", unsafe_allow_html=True)\n",
        "\n",
        "# User input\n",
        "review = st.text_area(\"Enter your review:\", height=150)\n",
        "\n",
        "def analyze_sentiment(text):\n",
        "    blob = TextBlob(text)\n",
        "    polarity = blob.sentiment.polarity\n",
        "    if polarity > 0:\n",
        "        return \"positive\"\n",
        "    elif polarity < 0:\n",
        "        return \"negative\"\n",
        "    else:\n",
        "        return \"neutral\"\n",
        "\n",
        "if st.button(\"Analyze\"):\n",
        "    if review.strip():\n",
        "        sentiment = analyze_sentiment(review)\n",
        "        if sentiment == \"positive\":\n",
        "            st.success(\"✅ Positive Review\")\n",
        "        elif sentiment == \"negative\":\n",
        "            st.error(\"❌ Negative Review\")\n",
        "        else:\n",
        "            st.info(\"😐 Neutral Review\")\n",
        "    else:\n",
        "        st.warning(\"Please enter a review first.\")\n",
        "''')\n",
        "\n",
        "# Run the app via ngrok\n",
        "import time\n",
        "from pyngrok import ngrok\n",
        "\n",
        "# Set ngrok with the new token\n",
        "ngrok.set_auth_token(\"2x1Psczh1bemxNr2v1mUklC1V7w_5ykEWW2jDgu4djT2dqzJM\")\n",
        "\n",
        "# Start the app via ngrok\n",
        "!nohup streamlit run app.py --server.port 8501 &>/dev/null &\n",
        "\n",
        "# Slight delay to allow the app to start\n",
        "time.sleep(5)\n",
        "\n",
        "# Create an ngrok tunnel for the app\n",
        "public_url = ngrok.connect(8501)\n",
        "print(f\"📢 App is live at: {public_url.public_url}\")  # This will now only print the public URL\n",
        "\n",
        "# Display the app in Colab\n",
        "from IPython.display import IFrame, display\n",
        "display(IFrame(public_url.public_url, width=800, height=600))\n"
      ],
      "metadata": {
        "colab": {
          "base_uri": "https://localhost:8080/",
          "height": 639
        },
        "id": "Z7TxNQJCUoIf",
        "outputId": "c532178e-49c1-41a3-e17e-8e29d0822dbe"
      },
      "execution_count": 4,
      "outputs": [
        {
          "output_type": "stream",
          "name": "stdout",
          "text": [
            "📢 App is live at: https://1428-34-127-26-195.ngrok-free.app\n"
          ]
        },
        {
          "output_type": "display_data",
          "data": {
            "text/plain": [
              "<IPython.lib.display.IFrame at 0x7a9c59de2e50>"
            ],
            "text/html": [
              "\n",
              "        <iframe\n",
              "            width=\"800\"\n",
              "            height=\"600\"\n",
              "            src=\"https://1428-34-127-26-195.ngrok-free.app\"\n",
              "            frameborder=\"0\"\n",
              "            allowfullscreen\n",
              "            \n",
              "        ></iframe>\n",
              "        "
            ]
          },
          "metadata": {}
        }
      ]
    },
    {
      "cell_type": "code",
      "source": [],
      "metadata": {
        "id": "pAgPUIIqbMDK"
      },
      "execution_count": null,
      "outputs": []
    }
  ]
}